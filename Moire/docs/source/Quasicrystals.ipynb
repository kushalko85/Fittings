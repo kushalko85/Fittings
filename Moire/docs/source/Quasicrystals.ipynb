{
 "cells": [
  {
   "cell_type": "markdown",
   "metadata": {},
   "source": [
    "# Quasi-crystals\n",
    "## Generalizing beyond the obvious symmetries\n",
    "When using `anylattice_gen()`, we can choose any rotational symmetry. This generalizes beyond just 2-fold, 4-fold and 3/6-fold symmetry. So let's see what happens if we use 5, or 7, rotational symmetries were no periodic lattice / covering of the plane exists... Some pretty wild patterns might appear!"
   ]
  },
  {
   "cell_type": "code",
   "execution_count": null,
   "metadata": {},
   "outputs": [],
   "source": [
    "import numpy as np\n",
    "import matplotlib.pyplot as plt\n",
    "\n",
    "import dask.array as da\n",
    "\n",
    "from latticegen import anylattice_gen, generate_ks, combine_ks\n",
    "from latticegen.transformations import *\n"
   ]
  },
  {
   "cell_type": "code",
   "execution_count": null,
   "metadata": {},
   "outputs": [],
   "source": [
    "data = anylattice_gen(0.05, 0, order=2, symmetry=5).compute()\n",
    "plt.imshow(data.T,\n",
    "               vmax=np.quantile(data,0.99),\n",
    "               vmin=np.quantile(data,0.01),\n",
    "              )\n",
    "plt.title('symmetry = 5');"
   ]
  },
  {
   "cell_type": "markdown",
   "metadata": {},
   "source": [
    "This pattern _looks_ like it repeats, but it never actually precisely does... We can do this for all kind of different symmetries of course:"
   ]
  },
  {
   "cell_type": "code",
   "execution_count": null,
   "metadata": {},
   "outputs": [],
   "source": [
    "fig, ax = plt.subplots(ncols=2, nrows=3, figsize=[12,18])\n",
    "for i,sym in enumerate([3,5,7,8,9,11]):\n",
    "    data = anylattice_gen(0.1, 0, order=2, symmetry=sym).compute()\n",
    "    ax.flat[i].imshow(data.T)\n",
    "    ax.flat[i].set_title(f'symmetry = {sym}')"
   ]
  },
  {
   "cell_type": "markdown",
   "metadata": {},
   "source": [
    "The 8-fold and 9-fold symmetric patterns are actually closely related to moiré patterns of square and 6-fold symmetric lattices..."
   ]
  },
  {
   "cell_type": "markdown",
   "metadata": {},
   "source": [
    "## Effect of the order parameter\n",
    "Now we can of course also explore what influence the order parameter has on the patterns. (This is due how the basis vectors are combined. Checkout `combine_ks()` to see how.)"
   ]
  },
  {
   "cell_type": "code",
   "execution_count": null,
   "metadata": {},
   "outputs": [],
   "source": [
    "fig, ax = plt.subplots(ncols=2, nrows=4, figsize=[12,24])\n",
    "ax = ax.T\n",
    "for i in np.arange(1,5):\n",
    "    data = anylattice_gen(0.1, 0, i, symmetry=5).compute()\n",
    "    mean = data.mean()\n",
    "    dv = max(data.max()-np.quantile(data,0.99), data.mean()-np.quantile(data,0.01))\n",
    "    im = ax[0, i-1].imshow(data.T, cmap='seismic',\n",
    "                   vmax=mean+dv, vmin=mean-dv,\n",
    "                  )\n",
    "    ax[0, 0].set_title('symmetry = 5')\n",
    "    ax[0, i-1].set_ylabel(f'order = {i}')\n",
    "    data = anylattice_gen(0.1, 0, i, symmetry=7).compute()\n",
    "    im = ax[1, i-1].imshow(data.T, cmap='seismic',\n",
    "               vmax=mean+dv, vmin=mean-dv,\n",
    "              )\n",
    "    ax[1,0].set_title('symmetry = 7')"
   ]
  }
 ],
 "metadata": {
  "kernelspec": {
   "display_name": "Python 3",
   "language": "python",
   "name": "python3"
  },
  "language_info": {
   "codemirror_mode": {
    "name": "ipython",
    "version": 3
   },
   "file_extension": ".py",
   "mimetype": "text/x-python",
   "name": "python",
   "nbconvert_exporter": "python",
   "pygments_lexer": "ipython3",
   "version": "3.8.10"
  }
 },
 "nbformat": 4,
 "nbformat_minor": 4
}
