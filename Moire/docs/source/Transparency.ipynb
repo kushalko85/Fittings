{
 "cells": [
  {
   "cell_type": "markdown",
   "metadata": {},
   "source": [
    "# Schematics: Transparency tricks\n",
    "\n",
    "Although `latticegen` is primarily focussed on generating numerical data to test algorithms (e.g. [GPA](https://github.com/TAdeJong/pyGPA)) on, it is also possible to use it to generate more schematic renderings of lattices.\n",
    "To visualize bonds and combine different lattices, it is possible to play transparency tricks with `matplotlib`s `imshow()` and the diverging colormaps."
   ]
  },
  {
   "cell_type": "code",
   "execution_count": null,
   "metadata": {},
   "outputs": [],
   "source": [
    "import numpy as np\n",
    "import matplotlib.pyplot as plt\n",
    "\n",
    "import latticegen"
   ]
  },
  {
   "cell_type": "markdown",
   "metadata": {},
   "source": [
    "## A hexagonal moiré lattice\n",
    "\n",
    "By applying a hexagonal lattice of `order=1` itself as transparency, we obtain something nicely respresenting the bonds in the lattice.\n",
    "<div class=\"alert alert-info\">\n",
    "**Note:** In `matplotlib`, `alpha` values are clipped between 0 and 1. Here, the lattices are scaled to $max = 1$ instead of using the `normalize` kwarg of `anylattice_gen()`, to obtain slightly moire transparent lattices overall.\n",
    "</div>"
   ]
  },
  {
   "cell_type": "code",
   "execution_count": null,
   "metadata": {},
   "outputs": [],
   "source": [
    "r_k = 0.05\n",
    "lattice1 = latticegen.hexlattice_gen(r_k, 0, order=1)\n",
    "lattice1 = np.clip(lattice1 / lattice1.max(), 0, 1).compute()\n",
    "lattice2 = latticegen.hexlattice_gen(r_k, 5, order=1)\n",
    "lattice2 = np.clip(lattice2 / lattice2.max(), 0, 1).compute()\n",
    "\n",
    "fig,axs = plt.subplots(ncols=3, figsize=[10,4])\n",
    "for i in [0, 1]:\n",
    "    axs[i].imshow(-lattice1.T, cmap='PiYG', \n",
    "                      vmax=1,\n",
    "                      vmin=-1,\n",
    "                       alpha=lattice1.T\n",
    "                     )\n",
    "    axs[i + 1].imshow(lattice2.T, cmap='PiYG',\n",
    "                   vmax=1,\n",
    "                   vmin=-1,\n",
    "                   alpha=lattice2.T)"
   ]
  },
  {
   "cell_type": "markdown",
   "metadata": {},
   "source": [
    "## A diatomic lattice\n",
    "\n",
    "By combining two separate trigonal lattices, we can illustrate a diatomic hexagonal lattice such as the insulator hexagonal Boron Nitride (hBN). A different colormap is used to generate different colors. \n",
    "\n",
    "(Any combination of colors can be obtained by [creating a custom colormap](https://matplotlib.org/stable/tutorials/colors/colormap-manipulation.html#directly-creating-a-segmented-colormap-from-a-list))"
   ]
  },
  {
   "cell_type": "code",
   "execution_count": null,
   "metadata": {},
   "outputs": [],
   "source": [
    "r_hBN = r_k * (0.246 / 0.2504)\n",
    "sublattice_a = latticegen.trilattice_gen(r_hBN, 0, order=1, normalize=True)\n",
    "sublattice_a = sublattice_a.compute()\n",
    "# Now add the second shifted sublattice lattice to get a hexagonal lattice\n",
    "ks = latticegen.generate_ks(r_hBN, 0, sym=6)\n",
    "x = np.array([ks[1], -ks[2]])\n",
    "shift = (np.linalg.inv(x / r_hBN).T/(3*r_k)).sum(axis=0).T  # Don't ask, this works\n",
    "sublattice_b = latticegen.trilattice_gen(r_hBN, 0, order=1,\n",
    "                                         shift=shift, normalize=True)\n",
    "sublattice_b = sublattice_b.compute()\n",
    "\n",
    "fig, axs = plt.subplots(ncols=3, figsize=[10,4])\n",
    "axs[0].set_title('Sublattice a')\n",
    "axs[1].set_title('Both sublattices')\n",
    "axs[2].set_title('Sublattice b')\n",
    "for i in [0, 1]:\n",
    "    axs[i].imshow(-sublattice_a.T, cmap='bwr', \n",
    "                  vmax=1, vmin=-1,\n",
    "                  alpha=sublattice_a.T)\n",
    "    axs[i + 1].imshow(sublattice_b.T, cmap='bwr',\n",
    "                      vmax=1, vmin=-1,\n",
    "                      alpha=sublattice_b.T)"
   ]
  },
  {
   "cell_type": "markdown",
   "metadata": {},
   "source": [
    "## A moiré of a diatomic lattice and a hexagonal lattice\n",
    "\n",
    "Putting both examples together to create an image of a moiré of a graphene lattice (green) on top of a hBN lattice (red/blue):"
   ]
  },
  {
   "cell_type": "code",
   "execution_count": null,
   "metadata": {},
   "outputs": [],
   "source": [
    "plt.figure(figsize=[10,10])\n",
    "plt.imshow(-sublattice_a.T, cmap='bwr', \n",
    "           vmax=1, vmin=-1,\n",
    "           alpha=sublattice_a.T)\n",
    "plt.imshow(sublattice_b.T, cmap='bwr',\n",
    "           vmax=1, vmin=-1,\n",
    "           alpha=sublattice_b.T)\n",
    "plt.imshow(lattice2.T, cmap='PiYG',\n",
    "           vmax=1, vmin=-1,\n",
    "           alpha=lattice2.T*0.9)"
   ]
  }
 ],
 "metadata": {
  "kernelspec": {
   "display_name": "Python 3",
   "language": "python",
   "name": "python3"
  },
  "language_info": {
   "codemirror_mode": {
    "name": "ipython",
    "version": 3
   },
   "file_extension": ".py",
   "mimetype": "text/x-python",
   "name": "python",
   "nbconvert_exporter": "python",
   "pygments_lexer": "ipython3",
   "version": "3.8.10"
  }
 },
 "nbformat": 4,
 "nbformat_minor": 4
}
