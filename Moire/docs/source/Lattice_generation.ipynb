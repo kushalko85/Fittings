{
 "cells": [
  {
   "cell_type": "markdown",
   "metadata": {},
   "source": [
    "# Lattice generation\n",
    "\n",
    "Using latticegen, it is possible to generate different symmetry lattices with different appearances.\n",
    "These lattices can then be combined in moiré lattices, or compound lattices of the same lattice constant"
   ]
  },
  {
   "cell_type": "code",
   "execution_count": null,
   "metadata": {},
   "outputs": [],
   "source": [
    "import numpy as np\n",
    "import matplotlib.pyplot as plt\n",
    "\n",
    "import latticegen"
   ]
  },
  {
   "cell_type": "markdown",
   "metadata": {},
   "source": [
    "## A single lattice\n",
    "\n",
    "First, let's look at generation of a single square lattice:"
   ]
  },
  {
   "cell_type": "code",
   "execution_count": null,
   "metadata": {},
   "outputs": [],
   "source": [
    "lattice = latticegen.anylattice_gen(r_k=0.01, theta=0, \n",
    "                                    order=1, symmetry=4)\n",
    "plt.imshow(lattice.T)"
   ]
  },
  {
   "cell_type": "markdown",
   "metadata": {},
   "source": [
    "Here, $r_k$ is one over the lattice constant, `theta` is the rotation angle of the lattice, and `symmetry=4` indicates a four-fold symmetric lattice.\n",
    "\n",
    "<div class=\"alert alert-info\">\n",
    "**Note:** $r_k$ is designed to be easily used with diffraction patterns, i.e. FFT transforms of images. If you just want a physical lattice, you might find [latticegen.physical_lattice_gen()](api.rst#latticegen.latticegeneration.physical_lattice_gen) more intuitive.\n",
    "</div>"
   ]
  },
  {
   "cell_type": "markdown",
   "metadata": {},
   "source": [
    "## The `order` parameter\n",
    "To give more indication of what the `order` parameter, the maximum order of the Fourier/k-vector components does: The higher the order, the more well-resolved the atoms are as single spots. However, computational complexity increases fast."
   ]
  },
  {
   "cell_type": "code",
   "execution_count": null,
   "metadata": {},
   "outputs": [],
   "source": [
    "fig, ax = plt.subplots(ncols=2, nrows=2, figsize=[10,10])\n",
    "for i in range(4):\n",
    "    ax.flat[i].imshow(latticegen.anylattice_gen(r_k=0.01, theta=0, \n",
    "                                    order=1+i, symmetry=4))\n",
    "    ax.flat[i].set_title(f'order = {i+1}')\n"
   ]
  },
  {
   "cell_type": "markdown",
   "metadata": {},
   "source": [
    "## Different symmetries\n",
    "\n",
    "We can generate lattices of six-fold (triangular) symmetry and four-fold symmetry, as wel as an hexagonal lattice. These functions are also available separately as \n",
    "[trilattice_gen()](api.rst#latticegen.latticegeneration.trilattice_gen),\n",
    "[squarelattice_gen()](api.rst#latticegen.latticegeneration.squarelattice_gen) and\n",
    "[hexlattice_gen()](api.rst#latticegen.latticegeneration.hexlattice_gen)."
   ]
  },
  {
   "cell_type": "code",
   "execution_count": null,
   "metadata": {},
   "outputs": [],
   "source": [
    "fig, ax = plt.subplots(ncols=3, figsize=[10,4])\n",
    "for i, sym in enumerate([3, 4, 6]):\n",
    "    if sym == 6:\n",
    "        data = latticegen.hexlattice_gen(r_k=0.01, theta=0, \n",
    "                                         order=3)\n",
    "    else:\n",
    "        data = latticegen.anylattice_gen(r_k=0.01, theta=0, \n",
    "                                         order=3, symmetry=sym)\n",
    "    ax.flat[i].imshow(data)\n",
    "    ax.flat[i].set_title(f'Symmetry = {sym}')\n"
   ]
  },
  {
   "cell_type": "markdown",
   "metadata": {},
   "source": [
    "## A moiré superlattice of two lattices\n",
    "\n",
    "Now, we can visualize what the moiré of two stacked lattices looks like and play around with the influence of deforming the top lattice.\n",
    "We by default drop back to `order=2` to keep things snappy."
   ]
  },
  {
   "cell_type": "code",
   "execution_count": null,
   "metadata": {},
   "outputs": [],
   "source": [
    "r_k = 0.2\n",
    "theta=2.05\n",
    "kappa=1.005\n",
    "psi=13.\n",
    "xi=0.\n",
    "\n",
    "lattice1 = 0.7*latticegen.hexlattice_gen(r_k, xi, 2)\n",
    "lattice2 = latticegen.hexlattice_gen(r_k, theta+xi, 2, \n",
    "                                     kappa=kappa, psi=psi)\n",
    "\n",
    "fig, ax = plt.subplots(figsize=[10,10])\n",
    "\n",
    "\n",
    "data = (lattice1 + lattice2).compute()\n",
    "im = ax.imshow(data.T,\n",
    "               vmax=np.quantile(data,0.95),\n",
    "               vmin=np.quantile(data,0.05),\n",
    "               )\n",
    "ax.set_xlabel('x (nm)')\n",
    "ax.set_ylabel('y (nm)')\n",
    "ax.set_title(f'$\\\\theta = {theta:.2f}^\\\\circ, \\\\kappa = {kappa:.3f}, \\\\psi = {psi:.2f}^\\\\circ$');"
   ]
  }
 ],
 "metadata": {
  "kernelspec": {
   "display_name": "Python 3",
   "language": "python",
   "name": "python3"
  },
  "language_info": {
   "codemirror_mode": {
    "name": "ipython",
    "version": 3
   },
   "file_extension": ".py",
   "mimetype": "text/x-python",
   "name": "python",
   "nbconvert_exporter": "python",
   "pygments_lexer": "ipython3",
   "version": "3.8.10"
  }
 },
 "nbformat": 4,
 "nbformat_minor": 4
}
